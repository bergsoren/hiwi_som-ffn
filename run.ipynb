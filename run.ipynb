{
 "cells": [
  {
   "cell_type": "markdown",
   "id": "c1f4aef0-6c11-418e-bdce-4dfc9c988a88",
   "metadata": {},
   "source": [
    "import STEP1_create_biomes as step1\n",
    "import matplotlib.pyplot as plt\n",
    "import cartopy.crs as ccrs\n",
    "import numpy as np"
   ]
  },
  {
   "cell_type": "markdown",
   "id": "9450f810-e87e-4602-899a-ea8649b71244",
   "metadata": {},
   "source": [
    "%%timeit -n1 -r1\n",
    "gridlength = 3\n",
    "gridheight = 3\n",
    "fig, axs = plt.subplots(gridlength, gridheight, figsize=[30, 15], squeeze=False, gridspec_kw={'wspace': 0, 'hspace': 0.1}, subplot_kw={'projection': ccrs.PlateCarree()})\n",
    "cmap = plt.colormaps['hsv'].with_extremes(under='white')\n",
    "\n",
    "plot_epochnr = int(1e6)\n",
    "\n",
    "\n",
    "plot_sigma = np.array([[1, 1, 1], [2, 2, 2], [3.999, 3.999, 3.999]])\n",
    "plot_learning_rate = np.array([[0.001, 1, 4], [0.001, 1, 3.5], [0.001, 1, 2]])\n",
    "for i in range(gridlength):\n",
    "    for j in range(gridheight):\n",
    "        print('\\n')\n",
    "        print(f'{i=}, {j=}')\n",
    "        axs[i, j].contourf(*step1.run(plt_show=False, som_epochnr=plot_epochnr, som_sigma=plot_sigma[i, j], som_learning_rate=plot_learning_rate[i, j]), np.arange(0, 16.1, 1), cmap=cmap)\n",
    "        axs[i, j].coastlines()\n",
    "        axs[i, j].set_title(f'{plot_epochnr=}, plot_sigma[{i}, {j}]={plot_sigma[i, j]}, plot_learning_rate[{i}, {j}]={plot_learning_rate[i, j]}')\n",
    "\n",
    "plt.savefig('plots_pdf/plot_comparisongrid.pdf')\n",
    "plt.savefig('plots_png/plot_comparisongrid.png')"
   ]
  },
  {
   "cell_type": "code",
   "execution_count": null,
   "id": "ca9ca7de",
   "metadata": {},
   "outputs": [],
   "source": [
    "import STEP1_create_biomes as step1\n",
    "import STEP4_main_matlab_ffn as step4"
   ]
  },
  {
   "cell_type": "code",
   "execution_count": null,
   "id": "eddcb13e",
   "metadata": {},
   "outputs": [],
   "source": [
    "step4.run()"
   ]
  },
  {
   "cell_type": "code",
   "execution_count": null,
   "id": "c957a13a",
   "metadata": {},
   "outputs": [],
   "source": []
  }
 ],
 "metadata": {
  "kernelspec": {
   "display_name": "Python 3 (ipykernel)",
   "language": "python",
   "name": "python3"
  },
  "language_info": {
   "codemirror_mode": {
    "name": "ipython",
    "version": 3
   },
   "file_extension": ".py",
   "mimetype": "text/x-python",
   "name": "python",
   "nbconvert_exporter": "python",
   "pygments_lexer": "ipython3",
   "version": "3.12.3"
  }
 },
 "nbformat": 4,
 "nbformat_minor": 5
}
